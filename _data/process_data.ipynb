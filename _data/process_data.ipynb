{
 "cells": [
  {
   "cell_type": "code",
   "execution_count": 56,
   "metadata": {},
   "outputs": [],
   "source": [
    "import pandas\n",
    "import requests\n",
    "import json"
   ]
  },
  {
   "cell_type": "code",
   "execution_count": 3,
   "metadata": {},
   "outputs": [],
   "source": [
    "URL = \"https://elections.wi.gov/media/18211/download\""
   ]
  },
  {
   "cell_type": "code",
   "execution_count": 10,
   "metadata": {},
   "outputs": [],
   "source": [
    "df = pandas.read_excel(requests.get(URL).content, 1)"
   ]
  },
  {
   "cell_type": "code",
   "execution_count": 62,
   "metadata": {},
   "outputs": [],
   "source": [
    "df.to_csv(\"raw_data.csv\")"
   ]
  },
  {
   "cell_type": "code",
   "execution_count": 69,
   "metadata": {},
   "outputs": [],
   "source": [
    "data = {}\n",
    "district_num = None\n",
    "total_d_vote = 0\n",
    "total_r_vote = 0\n",
    "d_vote = None\n",
    "r_vote = None\n",
    "for row in df.iterrows():\n",
    "    value = row[1].iloc[3]\n",
    "    if str(value).startswith(\"REPRESENTATIVE TO THE ASSEMBLY DISTRICT \"):\n",
    "        if d_vote is None:\n",
    "            d_vote = 0\n",
    "        if r_vote is None:\n",
    "            r_vote = 0\n",
    "        if district_num is not None:\n",
    "            data[district_num] = (d_vote - r_vote) / (d_vote + r_vote)\n",
    "\n",
    "        district_num = int(value.lstrip(\"REPRESENTATIVE TO THE ASSEMBLY DISTRICT \"))\n",
    "\n",
    "        total_d_vote += d_vote\n",
    "        total_r_vote += r_vote\n",
    "        d_vote = None\n",
    "        r_vote = None\n",
    "        \n",
    "    if district_num is None:\n",
    "        continue\n",
    "    \n",
    "\n",
    "    party = row[1].iloc[11]\n",
    "    if party == 'Democrat':\n",
    "        if d_vote is None:\n",
    "            d_vote = 0\n",
    "        d_vote += int(str(row[1].iloc[5]).replace(\",\", \"\"))\n",
    "    if party == 'Republican':\n",
    "        if r_vote is None:\n",
    "            r_vote = 0\n",
    "        r_vote += int(str(row[1].iloc[5]).replace(\",\", \"\"))\n",
    "data[district_num] = (d_vote - r_vote) / (d_vote + r_vote)\n",
    "total_d_vote += d_vote\n",
    "total_r_vote += r_vote\n",
    "    \n",
    "    "
   ]
  },
  {
   "cell_type": "code",
   "execution_count": 70,
   "metadata": {},
   "outputs": [
    {
     "data": {
      "text/plain": [
       "(1124962, 1350083, -0.09095632604659713)"
      ]
     },
     "execution_count": 70,
     "metadata": {},
     "output_type": "execute_result"
    }
   ],
   "source": [
    "total_d_vote, total_r_vote, (total_d_vote - total_r_vote) / (total_d_vote + total_r_vote)"
   ]
  },
  {
   "cell_type": "code",
   "execution_count": 71,
   "metadata": {},
   "outputs": [],
   "source": [
    "with open(\"house_votes.json\", \"w+\") as fh:\n",
    "    json.dump(data, fh, indent=2)"
   ]
  }
 ],
 "metadata": {
  "kernelspec": {
   "display_name": "Python 3.10.8 64-bit",
   "language": "python",
   "name": "python3"
  },
  "language_info": {
   "codemirror_mode": {
    "name": "ipython",
    "version": 3
   },
   "file_extension": ".py",
   "mimetype": "text/x-python",
   "name": "python",
   "nbconvert_exporter": "python",
   "pygments_lexer": "ipython3",
   "version": "3.10.8"
  },
  "orig_nbformat": 4,
  "vscode": {
   "interpreter": {
    "hash": "b0fa6594d8f4cbf19f97940f81e996739fb7646882a419484c72d19e05852a7e"
   }
  }
 },
 "nbformat": 4,
 "nbformat_minor": 2
}
