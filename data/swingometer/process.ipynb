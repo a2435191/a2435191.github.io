{
 "cells": [
  {
   "cell_type": "code",
   "execution_count": 163,
   "metadata": {},
   "outputs": [],
   "source": [
    "import pandas as pd\n",
    "import us\n",
    "import requests\n",
    "import json\n",
    "from collections import defaultdict\n"
   ]
  },
  {
   "cell_type": "code",
   "execution_count": 164,
   "metadata": {},
   "outputs": [],
   "source": [
    "DATA_URL = 'https://data.census.gov/api/access/data/table?'\n",
    "METADATA_URL = 'https://data.census.gov/api/search/metadata/table?'"
   ]
  },
  {
   "cell_type": "code",
   "execution_count": 165,
   "metadata": {},
   "outputs": [],
   "source": [
    "EDUCATION_URL_QUERY = 'id=ACSST5Y2020.S1501&t=Educational+Attainment&g=0100000US$0500000'\n",
    "RACE_URL_QUERY      = 'id=DECENNIALPL2020.P2&t=race&g=0100000US$0500000&tp=true'"
   ]
  },
  {
   "cell_type": "code",
   "execution_count": 166,
   "metadata": {},
   "outputs": [],
   "source": [
    "EDUCATION_COLUMNS_PREFIX = 'Estimate!!Total!!RACE AND HISPANIC OR LATINO ORIGIN BY EDUCATIONAL ATTAINMENT!!'\n",
    "EDUCATION_COLUMNS_DICT = {\n",
    "   EDUCATION_COLUMNS_PREFIX + 'White alone, not Hispanic or Latino': 'total_white',\n",
    "   EDUCATION_COLUMNS_PREFIX + \"White alone, not Hispanic or Latino!!Bachelor's degree or higher\": 'white_college'\n",
    "}\n"
   ]
  },
  {
   "cell_type": "code",
   "execution_count": 167,
   "metadata": {},
   "outputs": [],
   "source": [
    "RACE_COLUMNS_PREFIX = ' !!Total:!!Not Hispanic or Latino:!!Population of one race:!!'\n",
    "\n",
    "RACE_COLUMNS_DICT = {\n",
    "    RACE_COLUMNS_PREFIX + 'Black or African American alone': 'black',\n",
    "    ' !!Total:!!Hispanic or Latino': 'hispanic',\n",
    "    RACE_COLUMNS_PREFIX + 'American Indian and Alaska Native alone': 'native',\n",
    "    RACE_COLUMNS_PREFIX + 'Asian alone': 'asian',\n",
    "    RACE_COLUMNS_PREFIX + 'Native Hawaiian and Other Pacific Islander alone': 'hawaiian_pi',\n",
    "    RACE_COLUMNS_PREFIX + 'Some Other Race alone': 'other',\n",
    "    ' !!Total:!!Not Hispanic or Latino:!!Population of two or more races:': 'mixed'\n",
    "}\n",
    "\n"
   ]
  },
  {
   "cell_type": "code",
   "execution_count": 168,
   "metadata": {},
   "outputs": [],
   "source": [
    "def _read_census_json(query: str) -> pd.DataFrame:\n",
    "    metadata_request = requests.get(METADATA_URL + query)\n",
    "    metadata_request.raise_for_status()\n",
    "\n",
    "    metadata = json.loads(metadata_request.text)\n",
    "\n",
    "    column_mapping: dict[str, str] = {}\n",
    "    for measure in metadata['response']['metadataContent']['measures']:\n",
    "        column_mapping[measure['id']] = measure['label']\n",
    "    for dimension in metadata['response']['metadataContent']['dimensions']:\n",
    "        if 'item' in dimension:\n",
    "            column_mapping[dimension['item']['id']] = dimension['item']['label']\n",
    "\n",
    "    data_request = requests.get(DATA_URL + query)\n",
    "    data_request.raise_for_status()\n",
    "\n",
    "    data = json.loads(data_request.text)['response']['data']\n",
    "\n",
    "    df = pd.DataFrame(data)\n",
    "\n",
    "    # first row stores hard-to-read column names\n",
    "    df.columns = df.iloc[0]\n",
    "    df.drop(df.index[0], inplace=True)\n",
    "    df.reset_index(drop=True, inplace=True)\n",
    "\n",
    "    \n",
    "    df.columns = [column_mapping.get(col, col) for col in df.columns]\n",
    "\n",
    "    return df"
   ]
  },
  {
   "cell_type": "code",
   "execution_count": 169,
   "metadata": {},
   "outputs": [],
   "source": [
    "county_2020_education_raw = _read_census_json(EDUCATION_URL_QUERY)\n",
    "county_2020_race_raw = _read_census_json(RACE_URL_QUERY)"
   ]
  },
  {
   "cell_type": "code",
   "execution_count": 170,
   "metadata": {},
   "outputs": [],
   "source": [
    "county_2020_race_raw.to_csv('test.csv')"
   ]
  },
  {
   "cell_type": "code",
   "execution_count": 171,
   "metadata": {},
   "outputs": [],
   "source": [
    "county_2020_education_raw['FIPS'] = county_2020_education_raw['Geography'].apply(lambda id: id.split('US')[1])\n",
    "county_2020_race_raw     ['FIPS'] = county_2020_race_raw     ['Geography'].apply(lambda id: id.split('US')[1])"
   ]
  },
  {
   "cell_type": "code",
   "execution_count": 172,
   "metadata": {},
   "outputs": [],
   "source": [
    "def _only_voting_states_filter(row) -> bool:\n",
    "    state_fips = row['FIPS'][:2]\n",
    "    state = us.states.lookup(state_fips)\n",
    "    return (state == us.states.DC) or (state in us.states.STATES)"
   ]
  },
  {
   "cell_type": "code",
   "execution_count": 173,
   "metadata": {},
   "outputs": [],
   "source": [
    "county_2020_education = county_2020_education_raw\\\n",
    "    [county_2020_education_raw.apply(_only_voting_states_filter, axis=1)]\\\n",
    "    .rename(EDUCATION_COLUMNS_DICT, axis=1)\\\n",
    "    .loc[:, ['FIPS'] + list(EDUCATION_COLUMNS_DICT.values())]"
   ]
  },
  {
   "cell_type": "code",
   "execution_count": 174,
   "metadata": {},
   "outputs": [],
   "source": [
    "county_2020_race = county_2020_race_raw\\\n",
    "    [county_2020_race_raw.apply(_only_voting_states_filter, axis=1)]\\\n",
    "    .rename(RACE_COLUMNS_DICT, axis=1)\\\n",
    "    .loc[:, ['FIPS'] + list(RACE_COLUMNS_DICT.values())]"
   ]
  },
  {
   "cell_type": "code",
   "execution_count": 175,
   "metadata": {},
   "outputs": [],
   "source": [
    "for col in EDUCATION_COLUMNS_DICT.values():\n",
    "    county_2020_education[col] = county_2020_education[col].astype(int)\n",
    "for col in RACE_COLUMNS_DICT.values():\n",
    "    county_2020_race[col] = county_2020_race[col].astype(int)"
   ]
  },
  {
   "cell_type": "code",
   "execution_count": 176,
   "metadata": {},
   "outputs": [],
   "source": [
    "merged = county_2020_race\\\n",
    "    .merge(county_2020_education, on='FIPS')\\\n",
    "    .set_index('FIPS')"
   ]
  },
  {
   "cell_type": "code",
   "execution_count": 177,
   "metadata": {},
   "outputs": [],
   "source": [
    "output = pd.DataFrame()\n",
    "\n",
    "output['white-nocollege'] = merged['total_white'] - merged['white_college']\n",
    "output['white-college'] = merged['white_college']\n",
    "output['hispanic'] = merged['hispanic']\n",
    "output['black'] = merged['black']\n",
    "output['asian-other'] = merged['native'] + merged['asian'] + merged['hawaiian_pi'] + merged['other'] + merged['mixed']\n"
   ]
  },
  {
   "cell_type": "code",
   "execution_count": 180,
   "metadata": {},
   "outputs": [],
   "source": [
    "try:\n",
    "    with open('2020-pres/demographics.json') as fh:\n",
    "        obj = json.load(fh)\n",
    "except (FileNotFoundError, json.JSONDecodeError):\n",
    "    obj = {}\n",
    "\n",
    "with open('2020-pres/demographics.json', 'w+') as fh:\n",
    "    obj['demographicDataByCounty'] = output.to_dict('index')\n",
    "    if 'nationwidePopulation' not in obj:\n",
    "        obj['nationwidePopulation'] = {}\n",
    "    for col in output.columns:\n",
    "        obj['nationwidePopulation'][col] = int(output[col].sum())\n",
    "    json.dump(obj, fh, indent=4)"
   ]
  }
 ],
 "metadata": {
  "kernelspec": {
   "display_name": "Python 3",
   "language": "python",
   "name": "python3"
  },
  "language_info": {
   "codemirror_mode": {
    "name": "ipython",
    "version": 3
   },
   "file_extension": ".py",
   "mimetype": "text/x-python",
   "name": "python",
   "nbconvert_exporter": "python",
   "pygments_lexer": "ipython3",
   "version": "3.10.8"
  },
  "orig_nbformat": 4,
  "vscode": {
   "interpreter": {
    "hash": "b0fa6594d8f4cbf19f97940f81e996739fb7646882a419484c72d19e05852a7e"
   }
  }
 },
 "nbformat": 4,
 "nbformat_minor": 2
}
